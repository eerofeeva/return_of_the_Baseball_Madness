{
 "cells": [
  {
   "cell_type": "code",
   "execution_count": 3,
   "metadata": {},
   "outputs": [],
   "source": [
    "import matplotlib.pyplot as plt\n",
    "import numpy as np\n",
    "import pandas as pd\n"
   ]
  },
  {
   "cell_type": "code",
   "execution_count": 4,
   "metadata": {},
   "outputs": [
    {
     "data": {
      "text/html": [
       "<div>\n",
       "<style scoped>\n",
       "    .dataframe tbody tr th:only-of-type {\n",
       "        vertical-align: middle;\n",
       "    }\n",
       "\n",
       "    .dataframe tbody tr th {\n",
       "        vertical-align: top;\n",
       "    }\n",
       "\n",
       "    .dataframe thead th {\n",
       "        text-align: right;\n",
       "    }\n",
       "</style>\n",
       "<table border=\"1\" class=\"dataframe\">\n",
       "  <thead>\n",
       "    <tr style=\"text-align: right;\">\n",
       "      <th></th>\n",
       "      <th>TeamID</th>\n",
       "      <th>Attendance_2013</th>\n",
       "      <th>Avg_Attendance_2013</th>\n",
       "      <th>Attendance_2014</th>\n",
       "      <th>Avg_Attendance_2014</th>\n",
       "      <th>Attendance_2015</th>\n",
       "      <th>Avg_Attendance_2015</th>\n",
       "    </tr>\n",
       "  </thead>\n",
       "  <tbody>\n",
       "    <tr>\n",
       "      <th>0</th>\n",
       "      <td>ARI</td>\n",
       "      <td>2134895</td>\n",
       "      <td>26357</td>\n",
       "      <td>2073730</td>\n",
       "      <td>25602</td>\n",
       "      <td>2080145</td>\n",
       "      <td>25681</td>\n",
       "    </tr>\n",
       "    <tr>\n",
       "      <th>1</th>\n",
       "      <td>ATL</td>\n",
       "      <td>2548679</td>\n",
       "      <td>31465</td>\n",
       "      <td>2354305</td>\n",
       "      <td>29065</td>\n",
       "      <td>2001392</td>\n",
       "      <td>24709</td>\n",
       "    </tr>\n",
       "    <tr>\n",
       "      <th>2</th>\n",
       "      <td>BAL</td>\n",
       "      <td>2357561</td>\n",
       "      <td>29106</td>\n",
       "      <td>2464473</td>\n",
       "      <td>30426</td>\n",
       "      <td>2281202</td>\n",
       "      <td>29246</td>\n",
       "    </tr>\n",
       "    <tr>\n",
       "      <th>3</th>\n",
       "      <td>BOS</td>\n",
       "      <td>2833333</td>\n",
       "      <td>34979</td>\n",
       "      <td>2956089</td>\n",
       "      <td>36495</td>\n",
       "      <td>2880694</td>\n",
       "      <td>35564</td>\n",
       "    </tr>\n",
       "    <tr>\n",
       "      <th>4</th>\n",
       "      <td>CHC</td>\n",
       "      <td>2642682</td>\n",
       "      <td>32626</td>\n",
       "      <td>2652113</td>\n",
       "      <td>32742</td>\n",
       "      <td>2919122</td>\n",
       "      <td>36039</td>\n",
       "    </tr>\n",
       "  </tbody>\n",
       "</table>\n",
       "</div>"
      ],
      "text/plain": [
       "  TeamID  Attendance_2013  Avg_Attendance_2013  Attendance_2014  \\\n",
       "0    ARI          2134895                26357          2073730   \n",
       "1    ATL          2548679                31465          2354305   \n",
       "2    BAL          2357561                29106          2464473   \n",
       "3    BOS          2833333                34979          2956089   \n",
       "4    CHC          2642682                32626          2652113   \n",
       "\n",
       "   Avg_Attendance_2014  Attendance_2015  Avg_Attendance_2015  \n",
       "0                25602          2080145                25681  \n",
       "1                29065          2001392                24709  \n",
       "2                30426          2281202                29246  \n",
       "3                36495          2880694                35564  \n",
       "4                32742          2919122                36039  "
      ]
     },
     "execution_count": 4,
     "metadata": {},
     "output_type": "execute_result"
    }
   ],
   "source": [
    "csv_path= \"resources/Attendance.csv\"\n",
    "stad_attend= pd.read_csv(csv_path)\n",
    "stad_attend.head()"
   ]
  },
  {
   "cell_type": "code",
   "execution_count": null,
   "metadata": {},
   "outputs": [],
   "source": []
  }
 ],
 "metadata": {
  "kernelspec": {
   "display_name": "Python (PythonData)",
   "language": "python",
   "name": "pythondata"
  },
  "language_info": {
   "codemirror_mode": {
    "name": "ipython",
    "version": 3
   },
   "file_extension": ".py",
   "mimetype": "text/x-python",
   "name": "python",
   "nbconvert_exporter": "python",
   "pygments_lexer": "ipython3",
   "version": "3.8.3"
  }
 },
 "nbformat": 4,
 "nbformat_minor": 4
}

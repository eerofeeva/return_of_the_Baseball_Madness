{
 "metadata": {
  "language_info": {
   "codemirror_mode": {
    "name": "ipython",
    "version": 3
   },
   "file_extension": ".py",
   "mimetype": "text/x-python",
   "name": "python",
   "nbconvert_exporter": "python",
   "pygments_lexer": "ipython3",
   "version": "3.6.10-final"
  },
  "orig_nbformat": 2,
  "kernelspec": {
   "name": "python3",
   "display_name": "Python 3.6.10 64-bit ('PythonData': conda)",
   "metadata": {
    "interpreter": {
     "hash": "0f96e07aab45cae576d6521a1e0e62efebea6b2d8358f0e2c8d98cc52c29bc77"
    }
   }
  }
 },
 "nbformat": 4,
 "nbformat_minor": 2,
 "cells": [
  {
   "cell_type": "code",
   "execution_count": 1,
   "metadata": {},
   "outputs": [
    {
     "output_type": "stream",
     "name": "stdout",
     "text": [
      "Python connected to PostgreSQL!\n"
     ]
    }
   ],
   "source": [
    "import csv\n",
    "import psycopg2\n",
    "import pandas as pd\n",
    "from config import config\n",
    "\n",
    "params = config('database.ini', 'postgresql')\n",
    "con = psycopg2.connect(**params)\n",
    "print('Python connected to PostgreSQL!')"
   ]
  },
  {
   "cell_type": "code",
   "execution_count": 2,
   "metadata": {},
   "outputs": [],
   "source": [
    "# create connection cursor\n",
    "cur = con.cursor()"
   ]
  },
  {
   "cell_type": "code",
   "execution_count": 3,
   "metadata": {},
   "outputs": [],
   "source": [
    "#create tables in PostGresDB\n",
    "create_params = config(config_db = 'database.ini', section_to_parse = 'create_tables')\n",
    "cur.execute(create_params[\"population\"])\n",
    "cur.execute(create_params[\"teams_bridge\"])\n",
    "cur.execute(create_params[\"games_df\"])\n",
    "cur.execute(create_params[\"parks\"])\n",
    "cur.execute(create_params[\"parks_config\"])\n",
    "cur.execute(create_params[\"beer_prices\"])\n",
    "cur.execute(create_params[\"attendance\"])\n",
    "con.commit()"
   ]
  },
  {
   "cell_type": "code",
   "execution_count": 4,
   "metadata": {},
   "outputs": [],
   "source": [
    "#insert data\n",
    "insert_params = config(config_db = 'database.ini', section_to_parse = 'insert_data')\n",
    "cur.execute(insert_params[\"population\"])\n",
    "cur.execute(insert_params[\"teams_bridge\"])\n",
    "cur.execute(insert_params[\"games_df\"])\n",
    "cur.execute(insert_params[\"parks\"])\n",
    "cur.execute(insert_params[\"beer_prices\"])\n",
    "cur.execute(insert_params[\"attendance\"])\n",
    "cur.execute(insert_params[\"parks_config\"])\n",
    "\n",
    "con.commit()"
   ]
  },
  {
   "cell_type": "code",
   "execution_count": 5,
   "metadata": {},
   "outputs": [],
   "source": [
    "#retrieve unified data for final CSV\n",
    "retrieval_analysis_data = config(config_db = 'database.ini', section_to_parse = 'retrieval_analysis_data')\n",
    "cur.execute(retrieval_analysis_data['retrieve_data'])\n",
    "all = cur.fetchall()\n",
    "\n",
    "with open('new_results.csv', 'w', newline='') as f:\n",
    "    writer = csv.writer(f)\n",
    "    writer.writerows(all)"
   ]
  },
  {
   "cell_type": "code",
   "execution_count": 6,
   "metadata": {},
   "outputs": [],
   "source": [
    "# Close communication with the database\n",
    "cur.close()\n",
    "con.close()"
   ]
  }
 ]
}
{
 "metadata": {
  "language_info": {
   "codemirror_mode": {
    "name": "ipython",
    "version": 3
   },
   "file_extension": ".py",
   "mimetype": "text/x-python",
   "name": "python",
   "nbconvert_exporter": "python",
   "pygments_lexer": "ipython3",
   "version": "3.6.10-final"
  },
  "orig_nbformat": 2,
  "kernelspec": {
   "name": "python3",
   "display_name": "Python 3.6.10 64-bit ('PythonData': conda)",
   "metadata": {
    "interpreter": {
     "hash": "0f96e07aab45cae576d6521a1e0e62efebea6b2d8358f0e2c8d98cc52c29bc77"
    }
   }
  }
 },
 "nbformat": 4,
 "nbformat_minor": 2,
 "cells": [
  {
   "cell_type": "code",
   "execution_count": 49,
   "metadata": {},
   "outputs": [
    {
     "output_type": "stream",
     "name": "stdout",
     "text": [
      "in config\nfirst if  database.ini\nsecond if\nPython connected to PostgreSQL!\n"
     ]
    }
   ],
   "source": [
    "import psycopg2\n",
    "import pandas as pd\n",
    "from config import config\n",
    "from config import load_sql\n",
    "\n",
    "params = config(config_db = 'database.ini')\n",
    "\n",
    "con = psycopg2.connect(**params)\n",
    "print('Python connected to PostgreSQL!')"
   ]
  },
  {
   "cell_type": "code",
   "execution_count": 50,
   "metadata": {},
   "outputs": [],
   "source": [
    "# create connection cursor\n",
    "cur = con.cursor()"
   ]
  },
  {
   "cell_type": "code",
   "execution_count": 51,
   "metadata": {},
   "outputs": [],
   "source": [
    "#create tables in PostGresDB\n",
    "create_params = load_sql(config_db = 'database.ini')\n",
    "\n",
    "cur.execute(create_params[\"population\"])\n",
    "cur.execute(create_params[\"teams_bridge\"])\n",
    "cur.execute(create_params[\"games_df\"])\n",
    "cur.execute(create_params[\"parks\"])\n",
    "cur.execute(create_params[\"parks_events\"])\n",
    "cur.execute(create_params[\"parks_config\"])\n",
    "cur.execute(create_params[\"beer_prices\"])\n",
    "con.commit()"
   ]
  },
  {
   "cell_type": "code",
   "execution_count": 52,
   "metadata": {},
   "outputs": [],
   "source": [
    "# Close communication with the database\n",
    "cur.close()\n",
    "con.close()"
   ]
  },
  {
   "cell_type": "code",
   "execution_count": 53,
   "metadata": {},
   "outputs": [],
   "source": [
    "\n",
    "# Execute a command: this creates a new table\n",
    "# cur.execute(\"CREATE TABLE test (id serial PRIMARY KEY, num integer, data varchar);\")\n",
    "\n",
    "# # Pass data to fill a query placeholders and let Psycopg perform\n",
    "# # the correct conversion (no more SQL injections!)\n",
    "# cur.execute(\"INSERT INTO test (num, data) VALUES (%s, %s)\", (100, \"abc'def\"))\n",
    "\n",
    "# # Query the database and obtain data as Python objects\n",
    "# cur.execute(\"SELECT * FROM test;\")\n",
    "# cur.fetchone()\n",
    "# (1, 100, \"abc'def\")\n",
    "\n",
    "# Make the changes to the database persistent\n",
    "# con.commit()\n"
   ]
  }
 ]
}
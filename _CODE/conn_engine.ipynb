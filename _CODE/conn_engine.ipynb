{
 "metadata": {
  "language_info": {
   "codemirror_mode": {
    "name": "ipython",
    "version": 3
   },
   "file_extension": ".py",
   "mimetype": "text/x-python",
   "name": "python",
   "nbconvert_exporter": "python",
   "pygments_lexer": "ipython3",
   "version": "3.6.10-final"
  },
  "orig_nbformat": 2,
  "kernelspec": {
   "name": "python3",
   "display_name": "Python 3.6.10 64-bit ('PythonData': conda)",
   "metadata": {
    "interpreter": {
     "hash": "0f96e07aab45cae576d6521a1e0e62efebea6b2d8358f0e2c8d98cc52c29bc77"
    }
   }
  }
 },
 "nbformat": 4,
 "nbformat_minor": 2,
 "cells": [
  {
   "cell_type": "code",
   "execution_count": 20,
   "metadata": {},
   "outputs": [
    {
     "output_type": "stream",
     "name": "stdout",
     "text": [
      "in config\nfirst if  database.ini\nsecond if\nPython connected to PostgreSQL!\n"
     ]
    }
   ],
   "source": [
    "import csv\n",
    "import psycopg2\n",
    "import pandas as pd\n",
    "from config import config\n",
    "from config import load_sql\n",
    "\n",
    "#params = config(config_db = 'database.ini', section_to_parse = 'postgresql')\n",
    "params = config('database.ini', 'postgresql')\n",
    "\n",
    "\n",
    "con = psycopg2.connect(**params)\n",
    "print('Python connected to PostgreSQL!')"
   ]
  },
  {
   "cell_type": "code",
   "execution_count": 16,
   "metadata": {},
   "outputs": [],
   "source": [
    "# create connection cursor\n",
    "cur = con.cursor()"
   ]
  },
  {
   "cell_type": "code",
   "execution_count": 17,
   "metadata": {},
   "outputs": [
    {
     "output_type": "stream",
     "name": "stdout",
     "text": [
      "in config\nfirst if  database.ini\nsecond if\n"
     ]
    }
   ],
   "source": [
    "#create tables in PostGresDB\n",
    "create_params = config(config_db = 'database.ini', section_to_parse = 'create_tables')\n",
    "\n",
    "cur.execute(create_params[\"population\"])\n",
    "cur.execute(create_params[\"teams_bridge\"])\n",
    "cur.execute(create_params[\"games_df\"])\n",
    "cur.execute(create_params[\"parks\"])\n",
    "cur.execute(create_params[\"parks_config\"])\n",
    "cur.execute(create_params[\"beer_prices\"])\n",
    "cur.execute(create_params[\"attendance\"])\n",
    "con.commit()"
   ]
  },
  {
   "cell_type": "code",
   "execution_count": 18,
   "metadata": {},
   "outputs": [
    {
     "output_type": "stream",
     "name": "stdout",
     "text": [
      "in config\nfirst if  database.ini\nsecond if\n"
     ]
    },
    {
     "output_type": "error",
     "ename": "UniqueViolation",
     "evalue": "duplicate key value violates unique constraint \"population_pkey\"\nDETAIL:  Key (city)=(Glendale ) already exists.\nCONTEXT:  COPY population, line 120\n",
     "traceback": [
      "\u001b[1;31m---------------------------------------------------------------------------\u001b[0m",
      "\u001b[1;31mUniqueViolation\u001b[0m                           Traceback (most recent call last)",
      "\u001b[1;32m<ipython-input-18-9ef0ebb4cec6>\u001b[0m in \u001b[0;36m<module>\u001b[1;34m\u001b[0m\n\u001b[0;32m      1\u001b[0m \u001b[1;31m#insert data\u001b[0m\u001b[1;33m\u001b[0m\u001b[1;33m\u001b[0m\u001b[1;33m\u001b[0m\u001b[0m\n\u001b[0;32m      2\u001b[0m \u001b[0minsert_params\u001b[0m \u001b[1;33m=\u001b[0m \u001b[0mconfig\u001b[0m\u001b[1;33m(\u001b[0m\u001b[0mconfig_db\u001b[0m \u001b[1;33m=\u001b[0m \u001b[1;34m'database.ini'\u001b[0m\u001b[1;33m,\u001b[0m \u001b[0msection_to_parse\u001b[0m \u001b[1;33m=\u001b[0m \u001b[1;34m'insert_data'\u001b[0m\u001b[1;33m)\u001b[0m\u001b[1;33m\u001b[0m\u001b[1;33m\u001b[0m\u001b[0m\n\u001b[1;32m----> 3\u001b[1;33m \u001b[0mcur\u001b[0m\u001b[1;33m.\u001b[0m\u001b[0mexecute\u001b[0m\u001b[1;33m(\u001b[0m\u001b[0minsert_params\u001b[0m\u001b[1;33m[\u001b[0m\u001b[1;34m\"population\"\u001b[0m\u001b[1;33m]\u001b[0m\u001b[1;33m)\u001b[0m\u001b[1;33m\u001b[0m\u001b[1;33m\u001b[0m\u001b[0m\n\u001b[0m\u001b[0;32m      4\u001b[0m \u001b[1;33m\u001b[0m\u001b[0m\n\u001b[0;32m      5\u001b[0m \u001b[1;31m#should be able to do this without using database.ini - can test tomorrow\u001b[0m\u001b[1;33m\u001b[0m\u001b[1;33m\u001b[0m\u001b[1;33m\u001b[0m\u001b[0m\n",
      "\u001b[1;31mUniqueViolation\u001b[0m: duplicate key value violates unique constraint \"population_pkey\"\nDETAIL:  Key (city)=(Glendale ) already exists.\nCONTEXT:  COPY population, line 120\n"
     ]
    }
   ],
   "source": [
    "#insert data\n",
    "insert_params = config(config_db = 'database.ini', section_to_parse = 'insert_data')\n",
    "cur.execute(insert_params[\"population\"])\n",
    "\n",
    "#should be able to do this without using database.ini - can test tomorrow\n",
    "# with open('C:\\ClassRepo\\return_of_the_Baseball_Madness\\Resources\\US City Population.csv', 'r') as f:\n",
    "#     # Notice that we don't need the `csv` module.\n",
    "#     next(f) # Skip the header row.\n",
    "#     cur.copy_from(f, 'pupolation', sep=',')\n",
    "\n",
    "con.commit()"
   ]
  },
  {
   "cell_type": "code",
   "execution_count": 15,
   "metadata": {},
   "outputs": [],
   "source": [
    "#retrieve unified data for final CSV\n",
    "insert_params = config(config_db = 'database.ini', section_to_parse = 'retrieval_analysis_data')\n",
    "cur.execute(retrieval_analysis_data[\"retrieve_data\"])\n",
    "all = cur.fetchall()\n",
    "\n",
    "with open('results.csv', 'w', newline='') as f:\n",
    "    writer = csv.writer(f)\n",
    "    writer.writerows(all)"
   ]
  },
  {
   "cell_type": "code",
   "execution_count": 19,
   "metadata": {},
   "outputs": [],
   "source": [
    "# Close communication with the database\n",
    "cur.close()\n",
    "con.close()"
   ]
  },
  {
   "cell_type": "code",
   "execution_count": null,
   "metadata": {},
   "outputs": [],
   "source": []
  }
 ]
}
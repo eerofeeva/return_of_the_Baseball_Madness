{
 "metadata": {
  "language_info": {
   "codemirror_mode": {
    "name": "ipython",
    "version": 3
   },
   "file_extension": ".py",
   "mimetype": "text/x-python",
   "name": "python",
   "nbconvert_exporter": "python",
   "pygments_lexer": "ipython3",
   "version": "3.6.10-final"
  },
  "orig_nbformat": 2,
  "kernelspec": {
   "name": "python3",
   "display_name": "Python 3.6.10 64-bit ('PythonData': conda)",
   "metadata": {
    "interpreter": {
     "hash": "0f96e07aab45cae576d6521a1e0e62efebea6b2d8358f0e2c8d98cc52c29bc77"
    }
   }
  }
 },
 "nbformat": 4,
 "nbformat_minor": 2,
 "cells": [
  {
   "cell_type": "code",
   "execution_count": 209,
   "metadata": {},
   "outputs": [
    {
     "output_type": "stream",
     "name": "stdout",
     "text": [
      "in config\nfirst if  database.ini\nsecond if\nPython connected to PostgreSQL!\n"
     ]
    }
   ],
   "source": [
    "import csv\n",
    "import psycopg2\n",
    "import pandas as pd\n",
    "from config import config\n",
    "from config import load_sql\n",
    "\n",
    "#params = config(config_db = 'database.ini', section_to_parse = 'postgresql')\n",
    "params = config('database.ini', 'postgresql')\n",
    "\n",
    "\n",
    "con = psycopg2.connect(**params)\n",
    "print('Python connected to PostgreSQL!')"
   ]
  },
  {
   "cell_type": "code",
   "execution_count": 210,
   "metadata": {},
   "outputs": [],
   "source": [
    "# create connection cursor\n",
    "cur = con.cursor()"
   ]
  },
  {
   "cell_type": "code",
   "execution_count": 211,
   "metadata": {},
   "outputs": [
    {
     "output_type": "stream",
     "name": "stdout",
     "text": [
      "in config\nfirst if  database.ini\nsecond if\n"
     ]
    }
   ],
   "source": [
    "#create tables in PostGresDB\n",
    "create_params = config(config_db = 'database.ini', section_to_parse = 'create_tables')\n",
    "cur.execute(create_params[\"population\"])\n",
    "cur.execute(create_params[\"teams_bridge\"])\n",
    "cur.execute(create_params[\"games_df\"])\n",
    "cur.execute(create_params[\"parks\"])\n",
    "cur.execute(create_params[\"parks_config\"])\n",
    "cur.execute(create_params[\"beer_prices\"])\n",
    "cur.execute(create_params[\"attendance\"])\n",
    "con.commit()"
   ]
  },
  {
   "cell_type": "code",
   "execution_count": 212,
   "metadata": {},
   "outputs": [
    {
     "output_type": "stream",
     "name": "stdout",
     "text": [
      "in config\nfirst if  database.ini\nsecond if\n"
     ]
    }
   ],
   "source": [
    "#insert data\n",
    "insert_params = config(config_db = 'database.ini', section_to_parse = 'insert_data')\n",
    "cur.execute(insert_params[\"population\"])\n",
    "cur.execute(insert_params[\"teams_bridge\"])\n",
    "cur.execute(insert_params[\"games_df\"])\n",
    "cur.execute(insert_params[\"parks\"])\n",
    "cur.execute(insert_params[\"beer_prices\"])\n",
    "cur.execute(insert_params[\"attendance\"])\n",
    "cur.execute(insert_params[\"parks_config\"])\n",
    "\n",
    "\n",
    "#should be able to do this without using database.ini - can test tomorrow\n",
    "# with open('C:\\ClassRepo\\return_of_the_Baseball_Madness\\Resources\\US City Population.csv', 'r') as f:\n",
    "#     # Notice that we don't need the `csv` module.\n",
    "#     next(f) # Skip the header row.\n",
    "#     cur.copy_from(f, 'pupolation', sep=',')\n",
    "\n",
    "con.commit()"
   ]
  },
  {
   "cell_type": "code",
   "execution_count": 213,
   "metadata": {},
   "outputs": [
    {
     "output_type": "stream",
     "name": "stdout",
     "text": [
      "in config\nfirst if  database.ini\nsecond if\n"
     ]
    }
   ],
   "source": [
    "#retrieve unified data for final CSV\n",
    "retrieval_analysis_data = config(config_db = 'database.ini', section_to_parse = 'retrieval_analysis_data')\n",
    "cur.execute(retrieval_analysis_data['retrieve_data'])\n",
    "all = cur.fetchall()\n",
    "\n",
    "with open('new_results.csv', 'w', newline='') as f:\n",
    "    writer = csv.writer(f)\n",
    "    writer.writerows(all)"
   ]
  },
  {
   "cell_type": "code",
   "execution_count": 214,
   "metadata": {},
   "outputs": [],
   "source": [
    "# Close communication with the database\n",
    "cur.close()\n",
    "con.close()"
   ]
  },
  {
   "cell_type": "code",
   "execution_count": null,
   "metadata": {},
   "outputs": [],
   "source": []
  }
 ]
}
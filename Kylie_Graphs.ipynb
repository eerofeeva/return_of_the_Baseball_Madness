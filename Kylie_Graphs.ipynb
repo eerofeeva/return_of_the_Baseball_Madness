{
 "cells": [
  {
   "cell_type": "code",
   "execution_count": 1,
   "metadata": {},
   "outputs": [],
   "source": [
    "import pandas as pd\n",
    "import numpy  as np\n",
    "import matplotlib.pyplot as plt"
   ]
  },
  {
   "cell_type": "code",
   "execution_count": 2,
   "metadata": {},
   "outputs": [
    {
     "data": {
      "text/html": [
       "<div>\n",
       "<style scoped>\n",
       "    .dataframe tbody tr th:only-of-type {\n",
       "        vertical-align: middle;\n",
       "    }\n",
       "\n",
       "    .dataframe tbody tr th {\n",
       "        vertical-align: top;\n",
       "    }\n",
       "\n",
       "    .dataframe thead th {\n",
       "        text-align: right;\n",
       "    }\n",
       "</style>\n",
       "<table border=\"1\" class=\"dataframe\">\n",
       "  <thead>\n",
       "    <tr style=\"text-align: right;\">\n",
       "      <th></th>\n",
       "      <th>TeamID</th>\n",
       "      <th>TeamName</th>\n",
       "      <th>TotalGames</th>\n",
       "      <th>BeerYear</th>\n",
       "      <th>Price</th>\n",
       "      <th>OuncePrice</th>\n",
       "      <th>City</th>\n",
       "      <th>Pop2013</th>\n",
       "      <th>Pop2014</th>\n",
       "      <th>Pop2015</th>\n",
       "      <th>ParkName</th>\n",
       "      <th>Cap</th>\n",
       "      <th>Att2013</th>\n",
       "      <th>AV_Att2013</th>\n",
       "      <th>Att2014</th>\n",
       "      <th>AV_Att2014</th>\n",
       "      <th>Att2015</th>\n",
       "      <th>AV_Att2015</th>\n",
       "    </tr>\n",
       "  </thead>\n",
       "  <tbody>\n",
       "    <tr>\n",
       "      <th>0</th>\n",
       "      <td>ATL</td>\n",
       "      <td>Braves</td>\n",
       "      <td>4.0</td>\n",
       "      <td>2013</td>\n",
       "      <td>7.25</td>\n",
       "      <td>0.45</td>\n",
       "      <td>Atlanta</td>\n",
       "      <td>453990</td>\n",
       "      <td>461154</td>\n",
       "      <td>468303</td>\n",
       "      <td>Turner Field</td>\n",
       "      <td>49586</td>\n",
       "      <td>2548679</td>\n",
       "      <td>31465</td>\n",
       "      <td>2354305</td>\n",
       "      <td>29065</td>\n",
       "      <td>2001392</td>\n",
       "      <td>24709</td>\n",
       "    </tr>\n",
       "    <tr>\n",
       "      <th>1</th>\n",
       "      <td>ATL</td>\n",
       "      <td>Braves</td>\n",
       "      <td>4.0</td>\n",
       "      <td>2014</td>\n",
       "      <td>7.25</td>\n",
       "      <td>0.45</td>\n",
       "      <td>Atlanta</td>\n",
       "      <td>453990</td>\n",
       "      <td>461154</td>\n",
       "      <td>468303</td>\n",
       "      <td>Turner Field</td>\n",
       "      <td>49586</td>\n",
       "      <td>2548679</td>\n",
       "      <td>31465</td>\n",
       "      <td>2354305</td>\n",
       "      <td>29065</td>\n",
       "      <td>2001392</td>\n",
       "      <td>24709</td>\n",
       "    </tr>\n",
       "    <tr>\n",
       "      <th>2</th>\n",
       "      <td>ATL</td>\n",
       "      <td>Braves</td>\n",
       "      <td>4.0</td>\n",
       "      <td>2015</td>\n",
       "      <td>7.25</td>\n",
       "      <td>0.45</td>\n",
       "      <td>Atlanta</td>\n",
       "      <td>453990</td>\n",
       "      <td>461154</td>\n",
       "      <td>468303</td>\n",
       "      <td>Turner Field</td>\n",
       "      <td>49586</td>\n",
       "      <td>2548679</td>\n",
       "      <td>31465</td>\n",
       "      <td>2354305</td>\n",
       "      <td>29065</td>\n",
       "      <td>2001392</td>\n",
       "      <td>24709</td>\n",
       "    </tr>\n",
       "    <tr>\n",
       "      <th>3</th>\n",
       "      <td>ATL</td>\n",
       "      <td>Braves</td>\n",
       "      <td>4.0</td>\n",
       "      <td>2016</td>\n",
       "      <td>7.75</td>\n",
       "      <td>0.48</td>\n",
       "      <td>Atlanta</td>\n",
       "      <td>453990</td>\n",
       "      <td>461154</td>\n",
       "      <td>468303</td>\n",
       "      <td>Turner Field</td>\n",
       "      <td>49586</td>\n",
       "      <td>2548679</td>\n",
       "      <td>31465</td>\n",
       "      <td>2354305</td>\n",
       "      <td>29065</td>\n",
       "      <td>2001392</td>\n",
       "      <td>24709</td>\n",
       "    </tr>\n",
       "    <tr>\n",
       "      <th>4</th>\n",
       "      <td>ATL</td>\n",
       "      <td>Braves</td>\n",
       "      <td>4.0</td>\n",
       "      <td>2018</td>\n",
       "      <td>5.00</td>\n",
       "      <td>0.42</td>\n",
       "      <td>Atlanta</td>\n",
       "      <td>453990</td>\n",
       "      <td>461154</td>\n",
       "      <td>468303</td>\n",
       "      <td>Turner Field</td>\n",
       "      <td>49586</td>\n",
       "      <td>2548679</td>\n",
       "      <td>31465</td>\n",
       "      <td>2354305</td>\n",
       "      <td>29065</td>\n",
       "      <td>2001392</td>\n",
       "      <td>24709</td>\n",
       "    </tr>\n",
       "  </tbody>\n",
       "</table>\n",
       "</div>"
      ],
      "text/plain": [
       "  TeamID TeamName  TotalGames  BeerYear  Price  OuncePrice     City  Pop2013  \\\n",
       "0    ATL   Braves         4.0      2013   7.25        0.45  Atlanta   453990   \n",
       "1    ATL   Braves         4.0      2014   7.25        0.45  Atlanta   453990   \n",
       "2    ATL   Braves         4.0      2015   7.25        0.45  Atlanta   453990   \n",
       "3    ATL   Braves         4.0      2016   7.75        0.48  Atlanta   453990   \n",
       "4    ATL   Braves         4.0      2018   5.00        0.42  Atlanta   453990   \n",
       "\n",
       "   Pop2014  Pop2015      ParkName    Cap  Att2013  AV_Att2013  Att2014  \\\n",
       "0   461154   468303  Turner Field  49586  2548679       31465  2354305   \n",
       "1   461154   468303  Turner Field  49586  2548679       31465  2354305   \n",
       "2   461154   468303  Turner Field  49586  2548679       31465  2354305   \n",
       "3   461154   468303  Turner Field  49586  2548679       31465  2354305   \n",
       "4   461154   468303  Turner Field  49586  2548679       31465  2354305   \n",
       "\n",
       "   AV_Att2014  Att2015  AV_Att2015  \n",
       "0       29065  2001392       24709  \n",
       "1       29065  2001392       24709  \n",
       "2       29065  2001392       24709  \n",
       "3       29065  2001392       24709  \n",
       "4       29065  2001392       24709  "
      ]
     },
     "execution_count": 2,
     "metadata": {},
     "output_type": "execute_result"
    }
   ],
   "source": [
    "#Graphs\n",
    "results_df = pd.read_csv(\".\\\\Resources\\\\results_with_header.csv\")\n",
    "results_df.head()\n"
   ]
  },
  {
   "cell_type": "code",
   "execution_count": 18,
   "metadata": {},
   "outputs": [
    {
     "data": {
      "text/plain": [
       "Text(0.5, 1.0, 'MIN')"
      ]
     },
     "execution_count": 18,
     "metadata": {},
     "output_type": "execute_result"
    },
    {
     "data": {
      "image/png": "[encoded data removed]",
      "text/plain": [
       "<Figure size 432x288 with 1 Axes>"
      ]
     },
     "metadata": {
      "needs_background": "light"
     },
     "output_type": "display_data"
    }
   ],
   "source": [
    "# Added Minnesota for an example of a team that doesn't perform quite as well but has higher beer prices\n",
    "\n",
    "MINbeer_df = pd.read_csv(\".\\\\Resources\\\\Beer_Price.csv\")\n",
    "\n",
    "filter_MIN = MINbeer_df[\"Team\"].isin([\"Minnesota Twins\"])\n",
    "MIN_beer = MINbeer_df[filter_MIN]\n",
    "\n",
    "filter_SLN = results_df[\"TeamID\"].isin([\"SLN\"])\n",
    "SLN_beer = results_df[filter_SLN]\n",
    "\n",
    "plt.plot(SLN_beer[\"BeerYear\"], SLN_beer[\"Price\"], color=\"white\", label=\"1\", linewidth=2)\n",
    "plt.plot(MIN_beer[\"Year\"], MIN_beer[\" Price \"], color=\"blue\", label=\"1\", linewidth=2)\n",
    "plt.title(\"MIN\", fontsize=16)"
   ]
  },
  {
   "cell_type": "code",
   "execution_count": 4,
   "metadata": {},
   "outputs": [
    {
     "data": {
      "image/png": "[encoded data removed]",
      "text/plain": [
       "<Figure size 432x288 with 1 Axes>"
      ]
     },
     "metadata": {
      "needs_background": "light"
     },
     "output_type": "display_data"
    }
   ],
   "source": [
    "plt.plot(SLN_beer[\"BeerYear\"], SLN_beer[\"Price\"], color=\"red\", label=\"1\", linewidth=2)\n",
    "plt.plot(MIN_beer[\"Year\"], MIN_beer[\" Price \"], color=\"white\", label=\"1\", linewidth=2)\n",
    "plt.title(\"SLN\", fontsize=16)\n",
    "plt.show()"
   ]
  },
  {
   "cell_type": "code",
   "execution_count": 5,
   "metadata": {},
   "outputs": [
    {
     "data": {
      "image/png": "[encoded data removed]",
      "text/plain": [
       "<Figure size 432x288 with 1 Axes>"
      ]
     },
     "metadata": {
      "needs_background": "light"
     },
     "output_type": "display_data"
    }
   ],
   "source": [
    "filter_OAK = results_df[\"TeamID\"].isin([\"OAK\"])\n",
    "OAK_beer = results_df[filter_OAK]\n",
    "\n",
    "\n",
    "plt.plot(SLN_beer[\"BeerYear\"], SLN_beer[\"Price\"], color=\"white\", label=\"1\", linewidth=2)\n",
    "plt.plot(MIN_beer[\"Year\"], MIN_beer[\" Price \"], color=\"white\", label=\"1\", linewidth=2)\n",
    "plt.plot(OAK_beer[\"BeerYear\"], OAK_beer[\"Price\"], color=\"green\", label=\"1\", linewidth=2)\n",
    "plt.title(\"OAK\", fontsize=16)\n",
    "plt.show()"
   ]
  },
  {
   "cell_type": "code",
   "execution_count": 6,
   "metadata": {},
   "outputs": [
    {
     "data": {
      "image/png": "[encoded data removed]",
      "text/plain": [
       "<Figure size 432x288 with 1 Axes>"
      ]
     },
     "metadata": {
      "needs_background": "light"
     },
     "output_type": "display_data"
    }
   ],
   "source": [
    "filter_DET = results_df[\"TeamID\"].isin([\"DET\"])\n",
    "DET_beer = results_df[filter_DET]\n",
    "\n",
    "plt.plot(SLN_beer[\"BeerYear\"], SLN_beer[\"Price\"], color=\"white\", label=\"1\", linewidth=2)\n",
    "plt.plot(MIN_beer[\"Year\"], MIN_beer[\" Price \"], color=\"white\", label=\"1\", linewidth=2)\n",
    "plt.plot(DET_beer[\"BeerYear\"], DET_beer[\"Price\"], color=\"orange\", label=\"1\", linewidth=2)\n",
    "plt.title(\"DET\", fontsize=16)\n",
    "plt.show()"
   ]
  },
  {
   "cell_type": "code",
   "execution_count": 7,
   "metadata": {},
   "outputs": [
    {
     "data": {
      "image/png": "[encoded data removed]",
      "text/plain": [
       "<Figure size 432x288 with 1 Axes>"
      ]
     },
     "metadata": {
      "needs_background": "light"
     },
     "output_type": "display_data"
    }
   ],
   "source": [
    "filter_NYA = results_df[\"TeamID\"].isin([\"NYA\"])\n",
    "NYA_beer = results_df[filter_NYA]\n",
    "\n",
    "plt.plot(SLN_beer[\"BeerYear\"], SLN_beer[\"Price\"], color=\"white\", label=\"1\", linewidth=2)\n",
    "plt.plot(MIN_beer[\"Year\"], MIN_beer[\" Price \"], color=\"white\", label=\"1\", linewidth=2)\n",
    "plt.plot(NYA_beer[\"BeerYear\"], NYA_beer[\"Price\"], color=\"black\", label=\"1\", linewidth=2)\n",
    "plt.title(\"NYA\", fontsize=16)\n",
    "plt.show()"
   ]
  },
  {
   "cell_type": "code",
   "execution_count": 8,
   "metadata": {},
   "outputs": [
    {
     "data": {
      "text/plain": [
       "Text(0.5, 1.0, 'SLN, DET, OAK, NYA (&MIN)')"
      ]
     },
     "execution_count": 8,
     "metadata": {},
     "output_type": "execute_result"
    },
    {
     "data": {
      "image/png": "[encoded data removed]",
      "text/plain": [
       "<Figure size 432x288 with 1 Axes>"
      ]
     },
     "metadata": {
      "needs_background": "light"
     },
     "output_type": "display_data"
    }
   ],
   "source": [
    "plt.plot(SLN_beer[\"BeerYear\"], SLN_beer[\"Price\"], color=\"red\", label=\"1\", linewidth=2)\n",
    "plt.plot(MIN_beer[\"Year\"], MIN_beer[\" Price \"], color=\"blue\", label=\"1\", linewidth=2)\n",
    "plt.plot(DET_beer[\"BeerYear\"], DET_beer[\"Price\"], color=\"orange\", label=\"1\", linewidth=2)\n",
    "plt.plot(NYA_beer[\"BeerYear\"], NYA_beer[\"Price\"], color=\"black\", label=\"1\", linewidth=2)\n",
    "plt.plot(OAK_beer[\"BeerYear\"], OAK_beer[\"Price\"], color=\"green\", label=\"1\", linewidth=2)\n",
    "plt.title(\"SLN, DET, OAK, NYA (&MIN)\", fontsize=16)"
   ]
  }
 ],
 "metadata": {
  "kernelspec": {
   "display_name": "Python [conda env:root]",
   "language": "python",
   "name": "conda-root-py"
  },
  "language_info": {
   "codemirror_mode": {
    "name": "ipython",
    "version": 3
   },
   "file_extension": ".py",
   "mimetype": "text/x-python",
   "name": "python",
   "nbconvert_exporter": "python",
   "pygments_lexer": "ipython3",
   "version": "3.8.3"
  }
 },
 "nbformat": 4,
 "nbformat_minor": 2
}
